{
  "nbformat": 4,
  "nbformat_minor": 0,
  "metadata": {
    "colab": {
      "name": "decision_tree_w/metrics.ipynb",
      "version": "0.3.2",
      "provenance": [],
      "include_colab_link": true
    },
    "kernelspec": {
      "name": "python3",
      "display_name": "Python 3"
    }
  },
  "cells": [
    {
      "cell_type": "markdown",
      "metadata": {
        "id": "view-in-github",
        "colab_type": "text"
      },
      "source": [
        "<a href=\"https://colab.research.google.com/github/prat-degwekar/bd/blob/master/decision_tree_metrics.ipynb\" target=\"_parent\"><img src=\"https://colab.research.google.com/assets/colab-badge.svg\" alt=\"Open In Colab\"/></a>"
      ]
    },
    {
      "metadata": {
        "id": "9RLIv3nvNDRa",
        "colab_type": "code",
        "outputId": "59d46147-77d7-4bff-b921-5684f9948e02",
        "colab": {
          "base_uri": "https://localhost:8080/",
          "height": 392
        }
      },
      "cell_type": "code",
      "source": [
        "!pip3 install quandl"
      ],
      "execution_count": 1,
      "outputs": [
        {
          "output_type": "stream",
          "text": [
            "Collecting quandl\n",
            "  Downloading https://files.pythonhosted.org/packages/03/ad/d6c0e4a919a9b17300b32cd987cf11a3b13660852930b32d9f330120e48b/Quandl-3.4.5-py2.py3-none-any.whl\n",
            "Requirement already satisfied: six in /usr/local/lib/python3.6/dist-packages (from quandl) (1.11.0)\n",
            "Requirement already satisfied: python-dateutil in /usr/local/lib/python3.6/dist-packages (from quandl) (2.5.3)\n",
            "Requirement already satisfied: pandas>=0.14 in /usr/local/lib/python3.6/dist-packages (from quandl) (0.22.0)\n",
            "Requirement already satisfied: requests>=2.7.0 in /usr/local/lib/python3.6/dist-packages (from quandl) (2.18.4)\n",
            "Requirement already satisfied: more-itertools in /usr/local/lib/python3.6/dist-packages (from quandl) (5.0.0)\n",
            "Requirement already satisfied: numpy>=1.8 in /usr/local/lib/python3.6/dist-packages (from quandl) (1.14.6)\n",
            "Collecting inflection>=0.3.1 (from quandl)\n",
            "  Downloading https://files.pythonhosted.org/packages/d5/35/a6eb45b4e2356fe688b21570864d4aa0d0a880ce387defe9c589112077f8/inflection-0.3.1.tar.gz\n",
            "Requirement already satisfied: pytz>=2011k in /usr/local/lib/python3.6/dist-packages (from pandas>=0.14->quandl) (2018.7)\n",
            "Requirement already satisfied: idna<2.7,>=2.5 in /usr/local/lib/python3.6/dist-packages (from requests>=2.7.0->quandl) (2.6)\n",
            "Requirement already satisfied: certifi>=2017.4.17 in /usr/local/lib/python3.6/dist-packages (from requests>=2.7.0->quandl) (2018.11.29)\n",
            "Requirement already satisfied: chardet<3.1.0,>=3.0.2 in /usr/local/lib/python3.6/dist-packages (from requests>=2.7.0->quandl) (3.0.4)\n",
            "Requirement already satisfied: urllib3<1.23,>=1.21.1 in /usr/local/lib/python3.6/dist-packages (from requests>=2.7.0->quandl) (1.22)\n",
            "Building wheels for collected packages: inflection\n",
            "  Running setup.py bdist_wheel for inflection ... \u001b[?25l-\b \bdone\n",
            "\u001b[?25h  Stored in directory: /root/.cache/pip/wheels/9f/5a/d3/6fc3bf6516d2a3eb7e18f9f28b472110b59325f3f258fe9211\n",
            "Successfully built inflection\n",
            "Installing collected packages: inflection, quandl\n",
            "Successfully installed inflection-0.3.1 quandl-3.4.5\n"
          ],
          "name": "stdout"
        }
      ]
    },
    {
      "metadata": {
        "id": "Sb-CY5utNIX6",
        "colab_type": "code",
        "colab": {}
      },
      "cell_type": "code",
      "source": [
        ""
      ],
      "execution_count": 0,
      "outputs": []
    },
    {
      "metadata": {
        "id": "wsZDTfvTNIbz",
        "colab_type": "code",
        "colab": {}
      },
      "cell_type": "code",
      "source": [
        ""
      ],
      "execution_count": 0,
      "outputs": []
    },
    {
      "metadata": {
        "id": "KWuVigtHM4PV",
        "colab_type": "code",
        "colab": {}
      },
      "cell_type": "code",
      "source": [
        "import os\n",
        "import numpy as np\n",
        "import pandas as pd\n",
        "import pickle\n",
        "import quandl\n",
        "from datetime import datetime\n",
        "\n",
        "from sklearn.tree import DecisionTreeClassifier\n",
        "from sklearn.tree import export_graphviz\n",
        "from sklearn.model_selection import train_test_split\n",
        "from sklearn.metrics import confusion_matrix\n",
        "from sklearn.metrics import roc_curve, roc_auc_score\n",
        "\n",
        "import matplotlib.pyplot as plt"
      ],
      "execution_count": 0,
      "outputs": []
    },
    {
      "metadata": {
        "id": "odmmLjb3NIgb",
        "colab_type": "code",
        "colab": {}
      },
      "cell_type": "code",
      "source": [
        "Epsilon = 45\n",
        "\n",
        "def get_quandl_data(quandl_id):\n",
        "    '''Download and cache Quandl dataseries'''\n",
        "    cache_path = '{}.pkl'.format(quandl_id).replace('/','-')\n",
        "    try:\n",
        "        f = open(cache_path, 'rb')\n",
        "        df = pickle.load(f)   \n",
        "        print('Loaded {} from cache'.format(quandl_id))\n",
        "    except (OSError, IOError) as e:\n",
        "        print('Downloading {} from Quandl'.format(quandl_id))\n",
        "        df = quandl.get(quandl_id, returns=\"pandas\")\n",
        "        df.to_pickle(cache_path)\n",
        "        print('Cached {} at {}'.format(quandl_id, cache_path))\n",
        "    return df"
      ],
      "execution_count": 0,
      "outputs": []
    },
    {
      "metadata": {
        "id": "Ju7O3X0VNDHM",
        "colab_type": "code",
        "outputId": "b54c075a-54be-4e6b-8fe0-2975a27c545c",
        "colab": {
          "base_uri": "https://localhost:8080/",
          "height": 273
        }
      },
      "cell_type": "code",
      "source": [
        "# Pull Kraken BTC price exchange data\n",
        "btc_usd_price_kraken = get_quandl_data('BCHARTS/KRAKENUSD')\n",
        "\n",
        "btc_usd_price_kraken.head()"
      ],
      "execution_count": 4,
      "outputs": [
        {
          "output_type": "stream",
          "text": [
            "Downloading BCHARTS/KRAKENUSD from Quandl\n",
            "Cached BCHARTS/KRAKENUSD at BCHARTS-KRAKENUSD.pkl\n"
          ],
          "name": "stdout"
        },
        {
          "output_type": "execute_result",
          "data": {
            "text/html": [
              "<div>\n",
              "<style scoped>\n",
              "    .dataframe tbody tr th:only-of-type {\n",
              "        vertical-align: middle;\n",
              "    }\n",
              "\n",
              "    .dataframe tbody tr th {\n",
              "        vertical-align: top;\n",
              "    }\n",
              "\n",
              "    .dataframe thead th {\n",
              "        text-align: right;\n",
              "    }\n",
              "</style>\n",
              "<table border=\"1\" class=\"dataframe\">\n",
              "  <thead>\n",
              "    <tr style=\"text-align: right;\">\n",
              "      <th></th>\n",
              "      <th>Open</th>\n",
              "      <th>High</th>\n",
              "      <th>Low</th>\n",
              "      <th>Close</th>\n",
              "      <th>Volume (BTC)</th>\n",
              "      <th>Volume (Currency)</th>\n",
              "      <th>Weighted Price</th>\n",
              "    </tr>\n",
              "    <tr>\n",
              "      <th>Date</th>\n",
              "      <th></th>\n",
              "      <th></th>\n",
              "      <th></th>\n",
              "      <th></th>\n",
              "      <th></th>\n",
              "      <th></th>\n",
              "      <th></th>\n",
              "    </tr>\n",
              "  </thead>\n",
              "  <tbody>\n",
              "    <tr>\n",
              "      <th>2014-01-07</th>\n",
              "      <td>874.67040</td>\n",
              "      <td>892.06753</td>\n",
              "      <td>810.00000</td>\n",
              "      <td>810.00000</td>\n",
              "      <td>15.622378</td>\n",
              "      <td>13151.472844</td>\n",
              "      <td>841.835522</td>\n",
              "    </tr>\n",
              "    <tr>\n",
              "      <th>2014-01-08</th>\n",
              "      <td>810.00000</td>\n",
              "      <td>899.84281</td>\n",
              "      <td>788.00000</td>\n",
              "      <td>824.98287</td>\n",
              "      <td>19.182756</td>\n",
              "      <td>16097.329584</td>\n",
              "      <td>839.156269</td>\n",
              "    </tr>\n",
              "    <tr>\n",
              "      <th>2014-01-09</th>\n",
              "      <td>825.56345</td>\n",
              "      <td>870.00000</td>\n",
              "      <td>807.42084</td>\n",
              "      <td>841.86934</td>\n",
              "      <td>8.158335</td>\n",
              "      <td>6784.249982</td>\n",
              "      <td>831.572913</td>\n",
              "    </tr>\n",
              "    <tr>\n",
              "      <th>2014-01-10</th>\n",
              "      <td>839.99000</td>\n",
              "      <td>857.34056</td>\n",
              "      <td>817.00000</td>\n",
              "      <td>857.33056</td>\n",
              "      <td>8.024510</td>\n",
              "      <td>6780.220188</td>\n",
              "      <td>844.938794</td>\n",
              "    </tr>\n",
              "    <tr>\n",
              "      <th>2014-01-11</th>\n",
              "      <td>858.20000</td>\n",
              "      <td>918.05471</td>\n",
              "      <td>857.16554</td>\n",
              "      <td>899.84105</td>\n",
              "      <td>18.748285</td>\n",
              "      <td>16698.566929</td>\n",
              "      <td>890.671709</td>\n",
              "    </tr>\n",
              "  </tbody>\n",
              "</table>\n",
              "</div>"
            ],
            "text/plain": [
              "                 Open       High        Low      Close  Volume (BTC)  \\\n",
              "Date                                                                   \n",
              "2014-01-07  874.67040  892.06753  810.00000  810.00000     15.622378   \n",
              "2014-01-08  810.00000  899.84281  788.00000  824.98287     19.182756   \n",
              "2014-01-09  825.56345  870.00000  807.42084  841.86934      8.158335   \n",
              "2014-01-10  839.99000  857.34056  817.00000  857.33056      8.024510   \n",
              "2014-01-11  858.20000  918.05471  857.16554  899.84105     18.748285   \n",
              "\n",
              "            Volume (Currency)  Weighted Price  \n",
              "Date                                           \n",
              "2014-01-07       13151.472844      841.835522  \n",
              "2014-01-08       16097.329584      839.156269  \n",
              "2014-01-09        6784.249982      831.572913  \n",
              "2014-01-10        6780.220188      844.938794  \n",
              "2014-01-11       16698.566929      890.671709  "
            ]
          },
          "metadata": {
            "tags": []
          },
          "execution_count": 4
        }
      ]
    },
    {
      "metadata": {
        "id": "1i582WEGNVMT",
        "colab_type": "code",
        "outputId": "31d9c6f5-e1f0-444f-9cc5-254e42a3d92d",
        "colab": {
          "base_uri": "https://localhost:8080/",
          "height": 35
        }
      },
      "cell_type": "code",
      "source": [
        "#create classes\n",
        "\n",
        "classes = np.zeros((btc_usd_price_kraken['Volume (Currency)'].size, 1))\n",
        "\n",
        "print (classes.size)\n",
        "\n",
        "for i in range (1, classes.size):\n",
        "    \n",
        "    if ( btc_usd_price_kraken['Open'][i] > btc_usd_price_kraken['Open'][i-1] ) :\n",
        "        classes[i] = 1\n",
        "    else :\n",
        "        classes[i] = 0"
      ],
      "execution_count": 5,
      "outputs": [
        {
          "output_type": "stream",
          "text": [
            "1829\n"
          ],
          "name": "stdout"
        }
      ]
    },
    {
      "metadata": {
        "id": "nASzi7GjNaue",
        "colab_type": "code",
        "outputId": "06a4319a-bab5-4aa6-e71f-87118aae3321",
        "colab": {
          "base_uri": "https://localhost:8080/",
          "height": 218
        }
      },
      "cell_type": "code",
      "source": [
        "plt.subplot(211)\n",
        "\n",
        "plt.plot( btc_usd_price_kraken['Open'] )\n",
        "#indices =  np.arange(btc_usd_price_kraken['Volume (Currency)'].size)\n",
        "#plt.plot( btc_usd_price_kraken['Volume (Currency)'], indices)\n",
        "plt.xlabel('time')\n",
        "plt.ylabel( 'Opening value of Bitcoin' )"
      ],
      "execution_count": 6,
      "outputs": [
        {
          "output_type": "execute_result",
          "data": {
            "text/plain": [
              "Text(0,0.5,'Opening value of Bitcoin')"
            ]
          },
          "metadata": {
            "tags": []
          },
          "execution_count": 6
        },
        {
          "output_type": "display_data",
          "data": {
            "image/png": "[encoded data removed]",
            "text/plain": [
              "<matplotlib.figure.Figure at 0x7f3e2eb42588>"
            ]
          },
          "metadata": {
            "tags": []
          }
        }
      ]
    },
    {
      "metadata": {
        "id": "QzynSL1ONhmM",
        "colab_type": "code",
        "outputId": "0760de5b-ad07-459e-b30c-9a977447f582",
        "colab": {
          "base_uri": "https://localhost:8080/",
          "height": 35
        }
      },
      "cell_type": "code",
      "source": [
        "#do classification\n",
        "\n",
        "X_train, X_test, y_train, y_test = train_test_split( btc_usd_price_kraken['Open'].values.reshape(-1,1), classes)\n",
        "\n",
        "#X - data, y - class\n",
        "\n",
        "DTC = DecisionTreeClassifier()\n",
        "\n",
        "DTC.fit(X_train, y_train)\n",
        "\n",
        "score = DTC.score(X_test, y_test)\n",
        "\n",
        "print(\"score calculated from api call : \" , score)\n",
        "\n",
        "predict = DTC.predict(X_test)\n",
        "\n",
        "# export_graphviz(DTC, out_file = \"Decision_tree.dot\")"
      ],
      "execution_count": 7,
      "outputs": [
        {
          "output_type": "stream",
          "text": [
            "score calculated from api call :  0.5458515283842795\n"
          ],
          "name": "stdout"
        }
      ]
    },
    {
      "metadata": {
        "id": "OMmSWTDQFeoC",
        "colab_type": "code",
        "colab": {
          "base_uri": "https://localhost:8080/",
          "height": 394
        },
        "outputId": "864363b2-55ba-4906-9b90-8e333cb3fc2b"
      },
      "cell_type": "code",
      "source": [
        "# For AUC\n",
        "predictions = DTC.predict_proba(X_test)\n",
        "print ( \"AUC Score (Area Under Curve) : \", roc_auc_score(y_test, predictions[:,1]) )\n",
        "\n",
        "fpr, tpr, _ = roc_curve(y_test, predictions[:,1])\n",
        "\n",
        "plt.clf()\n",
        "plt.plot(fpr, tpr)\n",
        "plt.xlabel('FPR')\n",
        "plt.ylabel('TPR')\n",
        "plt.title('ROC curve')\n",
        "plt.show()"
      ],
      "execution_count": 12,
      "outputs": [
        {
          "output_type": "stream",
          "text": [
            "AUC Score (Area Under Curve) :  0.5487973035085031\n"
          ],
          "name": "stdout"
        },
        {
          "output_type": "display_data",
          "data": {
            "image/png": "[encoded data removed]",
            "text/plain": [
              "<matplotlib.figure.Figure at 0x7f3e2eb421d0>"
            ]
          },
          "metadata": {
            "tags": []
          }
        }
      ]
    },
    {
      "metadata": {
        "id": "6mP9hqiQNpe6",
        "colab_type": "code",
        "outputId": "82e278e6-e905-489a-fea2-de97d3fd8d10",
        "colab": {
          "base_uri": "https://localhost:8080/",
          "height": 198
        }
      },
      "cell_type": "code",
      "source": [
        "plt.subplot(212)\n",
        "\n",
        "plt.scatter(X_test, predict, color = 'red')\n",
        "#plt.scatter(btc_usd_price_kraken['Open'], classes, color = 'red')\n",
        "\n",
        "plt.xlabel(\"Opening Value of Bitcoin\")\n",
        "plt.ylabel(\"Class\")\n",
        "\n",
        "plt.show()"
      ],
      "execution_count": 13,
      "outputs": [
        {
          "output_type": "display_data",
          "data": {
            "image/png": "[encoded data removed]",
            "text/plain": [
              "<matplotlib.figure.Figure at 0x7f3e2eb42390>"
            ]
          },
          "metadata": {
            "tags": []
          }
        }
      ]
    },
    {
      "metadata": {
        "id": "7jw-V3oWM0Hv",
        "colab_type": "code",
        "outputId": "bd7e0f93-0302-427a-fec0-7d5ae83314b5",
        "colab": {
          "base_uri": "https://localhost:8080/",
          "height": 124
        }
      },
      "cell_type": "code",
      "source": [
        "# metrics\n",
        "\n",
        "errors = np.zeros((1,1))\n",
        "\n",
        "#positive -> 1, negative -> 0\n",
        "\n",
        "conf_mat = confusion_matrix( y_test, predict )\n",
        "\n",
        "tn, fp, fn, tp = conf_mat.ravel()\n",
        "\n",
        "sensitivity = tp / (tp + fn)\n",
        "specificity = tn / (tn + fp)\n",
        "\n",
        "precision = tp / ( tp + fp )\n",
        "recall = sensitivity\n",
        "\n",
        "f1_score = 2 * precision * recall / ( precision + recall )\n",
        "\n",
        "print ( \"specificity = \" , specificity)\n",
        "print ( \"sensitivity = \" , sensitivity)\n",
        "print ( \"precision = \" , precision)\n",
        "print ( \"recall = \" , recall)\n",
        "print ( \"F1 score = \" , f1_score)\n",
        "print ( \"AUC Score (Area Under Curve) : \", roc_auc_score(y_test, predictions[:,1]) )"
      ],
      "execution_count": 15,
      "outputs": [
        {
          "output_type": "stream",
          "text": [
            "specificity =  0.5245901639344263\n",
            "sensitivity =  0.5700934579439252\n",
            "precision =  0.5126050420168067\n",
            "recall =  0.5700934579439252\n",
            "F1 score =  0.5398230088495575\n",
            "AUC Score (Area Under Curve) :  0.5487973035085031\n"
          ],
          "name": "stdout"
        }
      ]
    }
  ]
}