{
  "nbformat": 4,
  "nbformat_minor": 0,
  "metadata": {
    "colab": {
      "name": "bd_endsem.ipynb",
      "version": "0.3.2",
      "provenance": [],
      "include_colab_link": true
    },
    "kernelspec": {
      "name": "python3",
      "display_name": "Python 3"
    }
  },
  "cells": [
    {
      "cell_type": "markdown",
      "metadata": {
        "id": "view-in-github",
        "colab_type": "text"
      },
      "source": [
        "<a href=\"https://colab.research.google.com/github/prat-degwekar/bd/blob/master/bd_endsem.ipynb\" target=\"_parent\"><img src=\"https://colab.research.google.com/assets/colab-badge.svg\" alt=\"Open In Colab\"/></a>"
      ]
    },
    {
      "metadata": {
        "id": "mJ0phNQpVC0S",
        "colab_type": "code",
        "colab": {}
      },
      "cell_type": "code",
      "source": [
        "import pandas as pd"
      ],
      "execution_count": 0,
      "outputs": []
    },
    {
      "metadata": {
        "id": "Cy3UIbUNVIVG",
        "colab_type": "text"
      },
      "cell_type": "markdown",
      "source": [
        "Use pandas library to handle dataset as dataframes"
      ]
    },
    {
      "metadata": {
        "id": "MxzJ-RwLVHSc",
        "colab_type": "code",
        "colab": {}
      },
      "cell_type": "code",
      "source": [
        "url = 'https://raw.githubusercontent.com/prat-degwekar/bd/master/endsem/titanic.csv'\n",
        "df = pd.read_csv(url)"
      ],
      "execution_count": 0,
      "outputs": []
    },
    {
      "metadata": {
        "id": "RerEETQyVhBY",
        "colab_type": "text"
      },
      "cell_type": "markdown",
      "source": [
        "Dataset is now stored as dataframes"
      ]
    },
    {
      "metadata": {
        "id": "DTZ0tGZTVglz",
        "colab_type": "code",
        "colab": {
          "base_uri": "https://localhost:8080/",
          "height": 206
        },
        "outputId": "160d678f-436e-476e-99b8-52e0a25a677d"
      },
      "cell_type": "code",
      "source": [
        "df.head()"
      ],
      "execution_count": 8,
      "outputs": [
        {
          "output_type": "execute_result",
          "data": {
            "text/html": [
              "<div>\n",
              "<style scoped>\n",
              "    .dataframe tbody tr th:only-of-type {\n",
              "        vertical-align: middle;\n",
              "    }\n",
              "\n",
              "    .dataframe tbody tr th {\n",
              "        vertical-align: top;\n",
              "    }\n",
              "\n",
              "    .dataframe thead th {\n",
              "        text-align: right;\n",
              "    }\n",
              "</style>\n",
              "<table border=\"1\" class=\"dataframe\">\n",
              "  <thead>\n",
              "    <tr style=\"text-align: right;\">\n",
              "      <th></th>\n",
              "      <th>PassengerId</th>\n",
              "      <th>Survived</th>\n",
              "      <th>Pclass</th>\n",
              "      <th>Name</th>\n",
              "      <th>Sex</th>\n",
              "      <th>Age</th>\n",
              "      <th>SibSp</th>\n",
              "      <th>Parch</th>\n",
              "      <th>Ticket</th>\n",
              "      <th>Fare</th>\n",
              "      <th>Cabin</th>\n",
              "      <th>Embarked</th>\n",
              "    </tr>\n",
              "  </thead>\n",
              "  <tbody>\n",
              "    <tr>\n",
              "      <th>0</th>\n",
              "      <td>1</td>\n",
              "      <td>0</td>\n",
              "      <td>3</td>\n",
              "      <td>Braund, Mr. Owen Harris</td>\n",
              "      <td>male</td>\n",
              "      <td>22.0</td>\n",
              "      <td>1</td>\n",
              "      <td>0</td>\n",
              "      <td>A/5 21171</td>\n",
              "      <td>7.2500</td>\n",
              "      <td>NaN</td>\n",
              "      <td>S</td>\n",
              "    </tr>\n",
              "    <tr>\n",
              "      <th>1</th>\n",
              "      <td>2</td>\n",
              "      <td>1</td>\n",
              "      <td>1</td>\n",
              "      <td>Cumings, Mrs. John Bradley (Florence Briggs Th...</td>\n",
              "      <td>female</td>\n",
              "      <td>38.0</td>\n",
              "      <td>1</td>\n",
              "      <td>0</td>\n",
              "      <td>PC 17599</td>\n",
              "      <td>71.2833</td>\n",
              "      <td>C85</td>\n",
              "      <td>C</td>\n",
              "    </tr>\n",
              "    <tr>\n",
              "      <th>2</th>\n",
              "      <td>3</td>\n",
              "      <td>1</td>\n",
              "      <td>3</td>\n",
              "      <td>Heikkinen, Miss. Laina</td>\n",
              "      <td>female</td>\n",
              "      <td>26.0</td>\n",
              "      <td>0</td>\n",
              "      <td>0</td>\n",
              "      <td>STON/O2. 3101282</td>\n",
              "      <td>7.9250</td>\n",
              "      <td>NaN</td>\n",
              "      <td>S</td>\n",
              "    </tr>\n",
              "    <tr>\n",
              "      <th>3</th>\n",
              "      <td>4</td>\n",
              "      <td>1</td>\n",
              "      <td>1</td>\n",
              "      <td>Futrelle, Mrs. Jacques Heath (Lily May Peel)</td>\n",
              "      <td>female</td>\n",
              "      <td>35.0</td>\n",
              "      <td>1</td>\n",
              "      <td>0</td>\n",
              "      <td>113803</td>\n",
              "      <td>53.1000</td>\n",
              "      <td>C123</td>\n",
              "      <td>S</td>\n",
              "    </tr>\n",
              "    <tr>\n",
              "      <th>4</th>\n",
              "      <td>5</td>\n",
              "      <td>0</td>\n",
              "      <td>3</td>\n",
              "      <td>Allen, Mr. William Henry</td>\n",
              "      <td>male</td>\n",
              "      <td>35.0</td>\n",
              "      <td>0</td>\n",
              "      <td>0</td>\n",
              "      <td>373450</td>\n",
              "      <td>8.0500</td>\n",
              "      <td>NaN</td>\n",
              "      <td>S</td>\n",
              "    </tr>\n",
              "  </tbody>\n",
              "</table>\n",
              "</div>"
            ],
            "text/plain": [
              "   PassengerId  Survived  Pclass  \\\n",
              "0            1         0       3   \n",
              "1            2         1       1   \n",
              "2            3         1       3   \n",
              "3            4         1       1   \n",
              "4            5         0       3   \n",
              "\n",
              "                                                Name     Sex   Age  SibSp  \\\n",
              "0                            Braund, Mr. Owen Harris    male  22.0      1   \n",
              "1  Cumings, Mrs. John Bradley (Florence Briggs Th...  female  38.0      1   \n",
              "2                             Heikkinen, Miss. Laina  female  26.0      0   \n",
              "3       Futrelle, Mrs. Jacques Heath (Lily May Peel)  female  35.0      1   \n",
              "4                           Allen, Mr. William Henry    male  35.0      0   \n",
              "\n",
              "   Parch            Ticket     Fare Cabin Embarked  \n",
              "0      0         A/5 21171   7.2500   NaN        S  \n",
              "1      0          PC 17599  71.2833   C85        C  \n",
              "2      0  STON/O2. 3101282   7.9250   NaN        S  \n",
              "3      0            113803  53.1000  C123        S  \n",
              "4      0            373450   8.0500   NaN        S  "
            ]
          },
          "metadata": {
            "tags": []
          },
          "execution_count": 8
        }
      ]
    },
    {
      "metadata": {
        "id": "lfs_Gbj_Wtnq",
        "colab_type": "text"
      },
      "cell_type": "markdown",
      "source": [
        "What the data looks like"
      ]
    },
    {
      "metadata": {
        "id": "CPURB1kddV1u",
        "colab_type": "text"
      },
      "cell_type": "markdown",
      "source": [
        "**Question (i)**\n",
        "\n",
        "---\n",
        "\n",
        "\n",
        "Fill Missing Values"
      ]
    },
    {
      "metadata": {
        "id": "1YvvgSFqXmvW",
        "colab_type": "code",
        "colab": {
          "base_uri": "https://localhost:8080/",
          "height": 35
        },
        "outputId": "76a12748-68dc-464f-f96b-4d4f5243a2a8"
      },
      "cell_type": "code",
      "source": [
        "count = 0\n",
        "for i in range(len(df)):\n",
        "  if pd.isna(df['Age'][i]):\n",
        "    #print(df['Name'][i])\n",
        "    count = count + 1\n",
        "print(count)"
      ],
      "execution_count": 23,
      "outputs": [
        {
          "output_type": "stream",
          "text": [
            "0\n"
          ],
          "name": "stdout"
        }
      ]
    },
    {
      "metadata": {
        "id": "VNBPRcmDaAsi",
        "colab_type": "text"
      },
      "cell_type": "markdown",
      "source": [
        "Prints out all the Records with Age value having missing data and their count"
      ]
    },
    {
      "metadata": {
        "id": "hBEhchQ7Xp-U",
        "colab_type": "code",
        "colab": {}
      },
      "cell_type": "code",
      "source": [
        "df['Age'].fillna(value = df.mean()['Age'], inplace = True)"
      ],
      "execution_count": 0,
      "outputs": []
    },
    {
      "metadata": {
        "id": "W8EuhHy9aFUK",
        "colab_type": "text"
      },
      "cell_type": "markdown",
      "source": [
        "Fills up Age value using Classical Statistical features. This uses the mean of all the ages to fill in the missing spots\n",
        "(Done for question (i) part 1)"
      ]
    },
    {
      "metadata": {
        "id": "aEhC1qS9a0GN",
        "colab_type": "code",
        "colab": {
          "base_uri": "https://localhost:8080/",
          "height": 35
        },
        "outputId": "20d9430f-5069-4339-eb19-c7deec5d6f21"
      },
      "cell_type": "code",
      "source": [
        "#df['Age'].fillna(method = 'ffill', inplace = True)"
      ],
      "execution_count": 27,
      "outputs": [
        {
          "output_type": "execute_result",
          "data": {
            "text/plain": [
              "29.69911764705882"
            ]
          },
          "metadata": {
            "tags": []
          },
          "execution_count": 27
        }
      ]
    },
    {
      "metadata": {
        "id": "CuBy5hVVa7IX",
        "colab_type": "text"
      },
      "cell_type": "markdown",
      "source": [
        "Fills up \"Age\" value using last valid Age value to propogate the value for as many missing \"holes\" as there may be\n",
        "(Done (in part) for question (i) part 2)"
      ]
    },
    {
      "metadata": {
        "id": "Vb3rInsJcg_4",
        "colab_type": "code",
        "colab": {}
      },
      "cell_type": "code",
      "source": [
        "df['Age'].fillna(value = df['Age'].mode()[0], inplace = True )"
      ],
      "execution_count": 0,
      "outputs": []
    },
    {
      "metadata": {
        "id": "k8UdB903cqNw",
        "colab_type": "text"
      },
      "cell_type": "markdown",
      "source": [
        "Fills up \"Age\" value with the most frequently occuring number in the \"Age\" field of the dataset.\n",
        "(Done for question (i) part 2)"
      ]
    },
    {
      "metadata": {
        "id": "i29WD-s9VHXv",
        "colab_type": "code",
        "colab": {
          "base_uri": "https://localhost:8080/",
          "height": 35
        },
        "outputId": "cf7cb436-0fb1-4bff-d690-8377f0785152"
      },
      "cell_type": "code",
      "source": [
        "df.mean()['Age']"
      ],
      "execution_count": 21,
      "outputs": [
        {
          "output_type": "execute_result",
          "data": {
            "text/plain": [
              "29.699117647058763"
            ]
          },
          "metadata": {
            "tags": []
          },
          "execution_count": 21
        }
      ]
    },
    {
      "metadata": {
        "id": "mpU9buyfVHVJ",
        "colab_type": "code",
        "colab": {}
      },
      "cell_type": "code",
      "source": [
        "for i in range(len(df)):\n",
        "  if pd.isna(df['Age'][i]):\n",
        "    print(df['Name'][i])"
      ],
      "execution_count": 0,
      "outputs": []
    },
    {
      "metadata": {
        "id": "uUTXP2Hhadm-",
        "colab_type": "text"
      },
      "cell_type": "markdown",
      "source": [
        "Shows that now no records have missing \"Age\"s"
      ]
    },
    {
      "metadata": {
        "id": "cr0bgaqGdKRK",
        "colab_type": "text"
      },
      "cell_type": "markdown",
      "source": [
        "**End of question (i)**"
      ]
    },
    {
      "metadata": {
        "id": "BhdpsLnZdpJr",
        "colab_type": "text"
      },
      "cell_type": "markdown",
      "source": [
        "**Question (ii)**\n",
        "\n",
        "> Generate descriptive statistics for a few of the attributes\n",
        "\n"
      ]
    },
    {
      "metadata": {
        "id": "micp00XLVHPf",
        "colab_type": "code",
        "colab": {
          "base_uri": "https://localhost:8080/",
          "height": 287
        },
        "outputId": "613159a5-a875-4663-d6a6-591a7abfbeb4"
      },
      "cell_type": "code",
      "source": [
        "import matplotlib.pyplot as plt\n",
        "\n",
        "plt.scatter(df['PassengerId'], df['Survived'])"
      ],
      "execution_count": 52,
      "outputs": [
        {
          "output_type": "execute_result",
          "data": {
            "text/plain": [
              "<matplotlib.collections.PathCollection at 0x7f3649525588>"
            ]
          },
          "metadata": {
            "tags": []
          },
          "execution_count": 52
        },
        {
          "output_type": "display_data",
          "data": {
            "image/png": "[encoded data removed]",
            "text/plain": [
              "<Figure size 432x288 with 1 Axes>"
            ]
          },
          "metadata": {
            "tags": []
          }
        }
      ]
    },
    {
      "metadata": {
        "id": "8Qe1Yuo2eePr",
        "colab_type": "code",
        "colab": {
          "base_uri": "https://localhost:8080/",
          "height": 287
        },
        "outputId": "a6b94bec-6f4a-487a-9408-d6d3eed0126c"
      },
      "cell_type": "code",
      "source": [
        "plt.scatter(df['Age'], df['Fare'])\n",
        "#plt.set_xlabel('Age')\n",
        "#plt.set_ylabel('Fare')"
      ],
      "execution_count": 55,
      "outputs": [
        {
          "output_type": "execute_result",
          "data": {
            "text/plain": [
              "<matplotlib.collections.PathCollection at 0x7f364942a208>"
            ]
          },
          "metadata": {
            "tags": []
          },
          "execution_count": 55
        },
        {
          "output_type": "display_data",
          "data": {
            "image/png": "[encoded data removed]",
            "text/plain": [
              "<Figure size 432x288 with 1 Axes>"
            ]
          },
          "metadata": {
            "tags": []
          }
        }
      ]
    },
    {
      "metadata": {
        "id": "WQr0Q7BshCU5",
        "colab_type": "text"
      },
      "cell_type": "markdown",
      "source": [
        "Graph of Age of Passenger vs Fare the passenger had to pay"
      ]
    },
    {
      "metadata": {
        "id": "FnbDVOtchH_2",
        "colab_type": "code",
        "colab": {
          "base_uri": "https://localhost:8080/",
          "height": 310
        },
        "outputId": "be72159f-0f5e-4159-db28-86feccdc9178"
      },
      "cell_type": "code",
      "source": [
        "ax = df['Survived'].value_counts().plot(kind = 'bar')\n",
        "ax.set_xlabel('Survived?')\n",
        "ax.set_ylabel('Numbers')\n",
        "ax.set_title('Survivor Count')"
      ],
      "execution_count": 59,
      "outputs": [
        {
          "output_type": "execute_result",
          "data": {
            "text/plain": [
              "Text(0.5, 1.0, 'Survivor Count')"
            ]
          },
          "metadata": {
            "tags": []
          },
          "execution_count": 59
        },
        {
          "output_type": "display_data",
          "data": {
            "image/png": "[encoded data removed]",
            "text/plain": [
              "<Figure size 432x288 with 1 Axes>"
            ]
          },
          "metadata": {
            "tags": []
          }
        }
      ]
    },
    {
      "metadata": {
        "id": "Y1mG-R_Didb1",
        "colab_type": "text"
      },
      "cell_type": "markdown",
      "source": [
        "Graphs Survivor Count as a bar chart"
      ]
    },
    {
      "metadata": {
        "id": "VgeMigDrijB3",
        "colab_type": "code",
        "colab": {
          "base_uri": "https://localhost:8080/",
          "height": 301
        },
        "outputId": "26674dbc-e03a-4ca7-c36b-0f8f9c0e89d6"
      },
      "cell_type": "code",
      "source": [
        "gr2 = df['Age'].plot()\n",
        "gr2.set_xlabel('Passenger Id')\n",
        "gr2.set_ylabel('Age')"
      ],
      "execution_count": 63,
      "outputs": [
        {
          "output_type": "execute_result",
          "data": {
            "text/plain": [
              "Text(0, 0.5, 'Age')"
            ]
          },
          "metadata": {
            "tags": []
          },
          "execution_count": 63
        },
        {
          "output_type": "display_data",
          "data": {
            "image/png": "[encoded data removed]",
            "text/plain": [
              "<Figure size 432x288 with 1 Axes>"
            ]
          },
          "metadata": {
            "tags": []
          }
        }
      ]
    },
    {
      "metadata": {
        "id": "PIMcml_2i6gR",
        "colab_type": "text"
      },
      "cell_type": "markdown",
      "source": [
        "Graphs Time Series like graph of Passenger Age"
      ]
    },
    {
      "metadata": {
        "id": "_OcQt-QGjBhj",
        "colab_type": "code",
        "colab": {
          "base_uri": "https://localhost:8080/",
          "height": 338
        },
        "outputId": "b376faa4-49ee-4519-b8f5-b0f5dd229f71"
      },
      "cell_type": "code",
      "source": [
        "ax2 = df['Sex'].value_counts().plot(kind = 'bar')\n",
        "ax2.set_xlabel('Gender of Passenger')\n",
        "ax2.set_ylabel('Count')\n",
        "ax2.set_title('Gender Ratio Count')"
      ],
      "execution_count": 65,
      "outputs": [
        {
          "output_type": "execute_result",
          "data": {
            "text/plain": [
              "Text(0.5, 1.0, 'Gender Ratio Count')"
            ]
          },
          "metadata": {
            "tags": []
          },
          "execution_count": 65
        },
        {
          "output_type": "display_data",
          "data": {
            "image/png": "[encoded data removed]",
            "text/plain": [
              "<Figure size 432x288 with 1 Axes>"
            ]
          },
          "metadata": {
            "tags": []
          }
        }
      ]
    },
    {
      "metadata": {
        "id": "H9sIXnDDjaDI",
        "colab_type": "text"
      },
      "cell_type": "markdown",
      "source": [
        "Graph to understand the Gender Ratio of the Titanic"
      ]
    },
    {
      "metadata": {
        "id": "-uKOlMiZjY4e",
        "colab_type": "code",
        "colab": {
          "base_uri": "https://localhost:8080/",
          "height": 310
        },
        "outputId": "4cde9de0-ca4b-483c-8ce8-d0966e41429f"
      },
      "cell_type": "code",
      "source": [
        "ax3 = df['Pclass'].value_counts().plot(kind = 'bar')\n",
        "ax3.set_xlabel('Passenger Class')\n",
        "ax3.set_ylabel('Count')\n",
        "ax3.set_title('Passenger Class Visual')"
      ],
      "execution_count": 66,
      "outputs": [
        {
          "output_type": "execute_result",
          "data": {
            "text/plain": [
              "Text(0.5, 1.0, 'Passenger Class Visual')"
            ]
          },
          "metadata": {
            "tags": []
          },
          "execution_count": 66
        },
        {
          "output_type": "display_data",
          "data": {
            "image/png": "[encoded data removed]",
            "text/plain": [
              "<Figure size 432x288 with 1 Axes>"
            ]
          },
          "metadata": {
            "tags": []
          }
        }
      ]
    },
    {
      "metadata": {
        "id": "zVaePQAtjrVr",
        "colab_type": "text"
      },
      "cell_type": "markdown",
      "source": [
        "Graph to understand the Class Ratio of the Titanic"
      ]
    },
    {
      "metadata": {
        "id": "mPIEgDnwj5lF",
        "colab_type": "text"
      },
      "cell_type": "markdown",
      "source": [
        "**End of Question (ii)**"
      ]
    },
    {
      "metadata": {
        "id": "4sJw2EPnkAYk",
        "colab_type": "text"
      },
      "cell_type": "markdown",
      "source": [
        "**Question (iii)**\n",
        "\n",
        "\n",
        "---\n",
        "\n",
        "Model a Classifier to predict survival using:\n",
        "\n",
        "\n",
        "> (i) Decision Tree Classifier\n",
        "\n",
        ">(ii) Naive Bayesian Classifier\n",
        "\n"
      ]
    },
    {
      "metadata": {
        "id": "clPO9MY7jvne",
        "colab_type": "code",
        "colab": {}
      },
      "cell_type": "code",
      "source": [
        "from sklearn.tree import DecisionTreeClassifier\n",
        "from sklearn.tree import export_graphviz\n",
        "from sklearn.model_selection import train_test_split\n",
        "from sklearn.metrics import confusion_matrix"
      ],
      "execution_count": 0,
      "outputs": []
    },
    {
      "metadata": {
        "id": "8uxepuRKk1nV",
        "colab_type": "text"
      },
      "cell_type": "markdown",
      "source": [
        "Import important sklearn packages needed"
      ]
    },
    {
      "metadata": {
        "id": "zXxuvufrlAb3",
        "colab_type": "code",
        "colab": {
          "base_uri": "https://localhost:8080/",
          "height": 35
        },
        "outputId": "623770bf-9496-4631-f8cf-a16983d53e2c"
      },
      "cell_type": "code",
      "source": [
        "#do classification\n",
        "\n",
        "X_train, X_test, y_train, y_test = train_test_split(df['Age'].values.reshape(-1,1), df['Survived'])\n",
        "\n",
        "#X - data, y - class\n",
        "\n",
        "DTC = DecisionTreeClassifier()\n",
        "\n",
        "DTC.fit(X_train, y_train)\n",
        "\n",
        "score = DTC.score(X_test, y_test)\n",
        "\n",
        "print(\"score calculated from api call : \" , score)\n",
        "\n",
        "predict = DTC.predict(X_test)"
      ],
      "execution_count": 70,
      "outputs": [
        {
          "output_type": "stream",
          "text": [
            "score calculated from api call :  0.6233183856502242\n"
          ],
          "name": "stdout"
        }
      ]
    },
    {
      "metadata": {
        "id": "uvGpWBw2mZCX",
        "colab_type": "code",
        "colab": {
          "base_uri": "https://localhost:8080/",
          "height": 217
        },
        "outputId": "adc81004-d2fc-458d-98b5-8997e0c46e86"
      },
      "cell_type": "code",
      "source": [
        "predict"
      ],
      "execution_count": 71,
      "outputs": [
        {
          "output_type": "execute_result",
          "data": {
            "text/plain": [
              "array([0, 0, 0, 0, 0, 1, 0, 0, 0, 0, 0, 0, 1, 1, 0, 0, 0, 0, 0, 1, 0, 1,\n",
              "       0, 1, 0, 0, 0, 0, 0, 0, 0, 0, 0, 0, 0, 0, 0, 0, 0, 1, 0, 0, 0, 1,\n",
              "       0, 0, 0, 1, 0, 1, 0, 0, 0, 1, 0, 0, 0, 0, 0, 0, 0, 1, 0, 0, 0, 0,\n",
              "       0, 0, 0, 0, 1, 0, 0, 0, 0, 0, 0, 1, 0, 1, 0, 1, 0, 0, 0, 0, 0, 0,\n",
              "       0, 0, 0, 0, 0, 0, 0, 1, 0, 0, 1, 1, 0, 1, 0, 0, 0, 1, 0, 0, 0, 1,\n",
              "       0, 0, 0, 1, 0, 0, 0, 1, 0, 0, 0, 0, 0, 0, 0, 0, 0, 0, 0, 0, 1, 0,\n",
              "       1, 0, 0, 0, 0, 1, 1, 0, 0, 0, 0, 0, 1, 0, 0, 0, 1, 1, 0, 0, 0, 0,\n",
              "       0, 0, 1, 0, 0, 0, 0, 0, 0, 0, 0, 0, 0, 0, 1, 1, 0, 0, 0, 1, 0, 0,\n",
              "       0, 0, 0, 0, 0, 0, 0, 0, 0, 1, 0, 0, 1, 0, 0, 0, 0, 0, 0, 0, 1, 0,\n",
              "       0, 0, 0, 0, 0, 0, 0, 0, 0, 0, 0, 0, 1, 1, 0, 0, 0, 0, 0, 0, 0, 0,\n",
              "       0, 0, 0])"
            ]
          },
          "metadata": {
            "tags": []
          },
          "execution_count": 71
        }
      ]
    },
    {
      "metadata": {
        "id": "GOhNRcA-qsq0",
        "colab_type": "text"
      },
      "cell_type": "markdown",
      "source": [
        "Class Prediction on testing data"
      ]
    },
    {
      "metadata": {
        "id": "GDk91ni-mY-T",
        "colab_type": "code",
        "colab": {
          "base_uri": "https://localhost:8080/",
          "height": 144
        },
        "outputId": "614e8d8c-c4ce-44ce-8379-ed5596c1da04"
      },
      "cell_type": "code",
      "source": [
        "df[['Sex', 'Age', 'Fare']].values"
      ],
      "execution_count": 73,
      "outputs": [
        {
          "output_type": "execute_result",
          "data": {
            "text/plain": [
              "array([['male', 22.0, 7.25],\n",
              "       ['female', 38.0, 71.2833],\n",
              "       ['female', 26.0, 7.925],\n",
              "       ...,\n",
              "       ['female', 29.69911764705882, 23.45],\n",
              "       ['male', 26.0, 30.0],\n",
              "       ['male', 32.0, 7.75]], dtype=object)"
            ]
          },
          "metadata": {
            "tags": []
          },
          "execution_count": 73
        }
      ]
    },
    {
      "metadata": {
        "id": "XoezlNERpcyJ",
        "colab_type": "code",
        "colab": {}
      },
      "cell_type": "code",
      "source": [
        "gender_conv = {'male': 1,'female': 0}\n",
        "Gen_array = [gender_conv[i] for i in df['Sex']]\n",
        "df['Gender'] = Gen_array"
      ],
      "execution_count": 0,
      "outputs": []
    },
    {
      "metadata": {
        "id": "32icGQSoqJcX",
        "colab_type": "text"
      },
      "cell_type": "markdown",
      "source": [
        "Generate a new Column for converting Sex to binary (Male or female) for use in classification"
      ]
    },
    {
      "metadata": {
        "id": "uGlK6hHJojZl",
        "colab_type": "code",
        "colab": {
          "base_uri": "https://localhost:8080/",
          "height": 35
        },
        "outputId": "6a8b0925-fdb5-4e59-a9d2-4bf0bdb3acf2"
      },
      "cell_type": "code",
      "source": [
        "X_train1, X_test1, y_train1, y_test1 = train_test_split(df[['Gender', 'Age', 'Fare']].values, df['Survived'])\n",
        "\n",
        "#X - data, y - class\n",
        "\n",
        "DTC1 = DecisionTreeClassifier()\n",
        "\n",
        "DTC1.fit(X_train1, y_train1)\n",
        "\n",
        "score1 = DTC1.score(X_test1, y_test1)\n",
        "\n",
        "print(\"score of Decision Tree Classifier : \" , score1)\n",
        "\n",
        "predict1 = DTC1.predict(X_test1)\n",
        "\n",
        "export_graphviz(DTC1, out_file = \"Decision_tree.dot\")"
      ],
      "execution_count": 80,
      "outputs": [
        {
          "output_type": "stream",
          "text": [
            "score calculated from api call :  0.7533632286995515\n"
          ],
          "name": "stdout"
        }
      ]
    },
    {
      "metadata": {
        "id": "6VvWG53lu6ki",
        "colab_type": "text"
      },
      "cell_type": "markdown",
      "source": [
        "*Decision Tree Classifier* : Score = ~75%"
      ]
    },
    {
      "metadata": {
        "id": "608I5DbIqVAb",
        "colab_type": "text"
      },
      "cell_type": "markdown",
      "source": [
        "Classify survivors based on Gender, Age and Fare together"
      ]
    },
    {
      "metadata": {
        "id": "osR00omjrxX5",
        "colab_type": "code",
        "colab": {
          "base_uri": "https://localhost:8080/",
          "height": 35
        },
        "outputId": "89caed25-2f92-4016-fdf3-90840bd7ba80"
      },
      "cell_type": "code",
      "source": [
        "!ls\n",
        "from google.colab import files\n",
        "files.download('Decision_tree.dot') "
      ],
      "execution_count": 83,
      "outputs": [
        {
          "output_type": "stream",
          "text": [
            "Decision_tree.dot  sample_data\n"
          ],
          "name": "stdout"
        }
      ]
    },
    {
      "metadata": {
        "id": "IDQBSnixqgTs",
        "colab_type": "text"
      },
      "cell_type": "markdown",
      "source": [
        ">**end of classifier (i)**"
      ]
    },
    {
      "metadata": {
        "id": "DyAcxVr7p6W5",
        "colab_type": "code",
        "colab": {
          "base_uri": "https://localhost:8080/",
          "height": 53
        },
        "outputId": "f624ebe3-2970-4c5b-b424-e075f30b09ab"
      },
      "cell_type": "code",
      "source": [
        "from sklearn.naive_bayes import GaussianNB\n",
        "gnb = GaussianNB()\n",
        "y_pred = gnb.fit(X_train1, y_train1).predict(X_test1)\n",
        "print(\"Number of mislabeled points out of a total %d points : %d\"\n",
        "      % (y_test1.shape[0],(y_test1 != y_pred).sum()))\n",
        "bayes_score = gnb.score(X_test1, y_test1)\n",
        "print(\"Score of classifier = \", bayes_score)"
      ],
      "execution_count": 87,
      "outputs": [
        {
          "output_type": "stream",
          "text": [
            "Number of mislabeled points out of a total 223 points : 48\n",
            "Score of classifier =  0.7847533632286996\n"
          ],
          "name": "stdout"
        }
      ]
    },
    {
      "metadata": {
        "id": "wwV-5KlXuuMK",
        "colab_type": "text"
      },
      "cell_type": "markdown",
      "source": [
        "*Naive Bayes Classifier* : Score = ~78%"
      ]
    },
    {
      "metadata": {
        "id": "r7SuOzQnvB04",
        "colab_type": "text"
      },
      "cell_type": "markdown",
      "source": [
        ">**End of Classifier (ii)**"
      ]
    },
    {
      "metadata": {
        "id": "ZqArLLAbvHG0",
        "colab_type": "text"
      },
      "cell_type": "markdown",
      "source": [
        "**End of Question (iii)**"
      ]
    },
    {
      "metadata": {
        "id": "LFj2408GvFw0",
        "colab_type": "code",
        "colab": {}
      },
      "cell_type": "code",
      "source": [
        ""
      ],
      "execution_count": 0,
      "outputs": []
    }
  ]
}
